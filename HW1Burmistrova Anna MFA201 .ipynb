{
  "nbformat": 4,
  "nbformat_minor": 0,
  "metadata": {
    "kernelspec": {
      "display_name": "Python 3",
      "language": "python",
      "name": "python3"
    },
    "language_info": {
      "codemirror_mode": {
        "name": "ipython",
        "version": 3
      },
      "file_extension": ".py",
      "mimetype": "text/x-python",
      "name": "python",
      "nbconvert_exporter": "python",
      "pygments_lexer": "ipython3",
      "version": "3.7.0"
    },
    "colab": {
      "name": "BI_TSA_HA_1.ipynb",
      "provenance": [],
      "collapsed_sections": [
        "kzLu3KjbwE7P",
        "0h6eyR9NwE7R",
        "Jd5tuXxdwE7S",
        "0Hggyr-kwE7W"
      ]
    }
  },
  "cells": [
    {
      "cell_type": "markdown",
      "metadata": {
        "id": "0c44wZqRwE62"
      },
      "source": [
        "## Time Series Analysis: Home Assignment 1"
      ]
    },
    {
      "cell_type": "markdown",
      "metadata": {
        "id": "34VwkjTOwE6-"
      },
      "source": [
        "due to **11.02.21 23:00**\n",
        "\n",
        "You need to upload HA1 to github repository,  the link will be provided later."
      ]
    },
    {
      "cell_type": "markdown",
      "metadata": {
        "id": "GMrk23b3wE6_"
      },
      "source": [
        "Enter your name below: "
      ]
    },
    {
      "cell_type": "code",
      "metadata": {
        "id": "feAiy1kqwE7A"
      },
      "source": [
        "name='Anna Burmistrova MFA201' "
      ],
      "execution_count": null,
      "outputs": []
    },
    {
      "cell_type": "markdown",
      "metadata": {
        "id": "BogFX2tEwE7B"
      },
      "source": [
        "### Contents"
      ]
    },
    {
      "cell_type": "markdown",
      "metadata": {
        "id": "_WOxPpbOwE7B"
      },
      "source": [
        "1. **Data preparation (7 points)**\n",
        "\n",
        "    $1.0$ Download data and import functions\n",
        "    \n",
        "    $1.1$ Read data (1 pt.)\n",
        "    \n",
        "    $1.2$ Check NAs (1 pt.)\n",
        "    \n",
        "    $1.3$ Transform dates (2 pt.)\n",
        "    \n",
        "    $1.4$. Make some plots (0.75 pt.)\n",
        "    \n",
        "    $1.5$ Split the data (0.75 pt.)\n",
        "    \n",
        " \n",
        "2. **ETS (7 points)**\n",
        "\n",
        "    $2.1$ Estimate ETS (1 pt.)\n",
        "    \n",
        "    $2.2$ Point forecasts (1 pt.)\n",
        "    \n",
        "    $2.3$ Interval forecasts 1 (1 pt.)\n",
        "    \n",
        "    $2.4$ Interval forecasts 2 (1 pt.)\n",
        "    \n",
        "    $2.5$ Forecast quality metrics (2 pt.)\n",
        "    \n",
        "    $2.6$ Model comparison (1 pt.)\n",
        "    "
      ]
    },
    {
      "cell_type": "markdown",
      "metadata": {
        "id": "lx9DaiS9wE7C"
      },
      "source": [
        "## 1. Data preparation (7 pt.)"
      ]
    },
    {
      "cell_type": "markdown",
      "metadata": {
        "id": "2TiNjUD1wE7C"
      },
      "source": [
        "### 1.0 Download data and import functions\n",
        "[back to contents](#Contents)"
      ]
    },
    {
      "cell_type": "markdown",
      "metadata": {
        "id": "gP1BS54nwE7D"
      },
      "source": [
        "You have to download [BI_TSA_HA_1_data.csv](https://github.com/bdemeshev/ts603/blob/master/2021-spring/BI_TSA_HA_1_data.csv), which represents quarterly sales of Walmart from 1984 to 2020. The sourse of the data is [ycharts.com](https://ycharts.com/companies/WMT/revenues). "
      ]
    },
    {
      "cell_type": "code",
      "metadata": {
        "id": "bri55dRyR7kc"
      },
      "source": [
        ""
      ],
      "execution_count": null,
      "outputs": []
    },
    {
      "cell_type": "code",
      "metadata": {
        "colab": {
          "base_uri": "https://localhost:8080/"
        },
        "id": "2G5cE_qYR9Z1",
        "outputId": "59310baf-e6e4-4cb3-e803-3e24312742e0"
      },
      "source": [
        "!pip install sktime\n"
      ],
      "execution_count": 3,
      "outputs": [
        {
          "output_type": "stream",
          "text": [
            "Collecting sktime\n",
            "\u001b[?25l  Downloading https://files.pythonhosted.org/packages/23/33/9c41660bf00420033a6e07809491263cc9a7d889ec4dfb2f7ea4a2f1bb63/sktime-0.5.3-cp36-cp36m-manylinux2014_x86_64.whl (5.7MB)\n",
            "\u001b[K     |████████████████████████████████| 5.7MB 5.3MB/s \n",
            "\u001b[?25hRequirement already satisfied: pandas>=1.1.0 in /usr/local/lib/python3.6/dist-packages (from sktime) (1.1.5)\n",
            "Collecting scikit-learn>=0.23.0\n",
            "\u001b[?25l  Downloading https://files.pythonhosted.org/packages/e2/4c/6111b9a325f29527d7f262e2ee8c730d354b47a728d955e186dacad57a0d/scikit_learn-0.24.1-cp36-cp36m-manylinux2010_x86_64.whl (22.2MB)\n",
            "\u001b[K     |████████████████████████████████| 22.2MB 1.9MB/s \n",
            "\u001b[?25hRequirement already satisfied: wheel in /usr/local/lib/python3.6/dist-packages (from sktime) (0.36.2)\n",
            "Collecting statsmodels>=0.12.1\n",
            "\u001b[?25l  Downloading https://files.pythonhosted.org/packages/0d/7b/c17815648dc31396af865b9c6627cc3f95705954e30f61106795361c39ee/statsmodels-0.12.2-cp36-cp36m-manylinux1_x86_64.whl (9.5MB)\n",
            "\u001b[K     |████████████████████████████████| 9.5MB 47.3MB/s \n",
            "\u001b[?25hRequirement already satisfied: numpy>=1.19.0 in /usr/local/lib/python3.6/dist-packages (from sktime) (1.19.5)\n",
            "Requirement already satisfied: numba>=0.50 in /usr/local/lib/python3.6/dist-packages (from sktime) (0.51.2)\n",
            "Requirement already satisfied: pytz>=2017.2 in /usr/local/lib/python3.6/dist-packages (from pandas>=1.1.0->sktime) (2018.9)\n",
            "Requirement already satisfied: python-dateutil>=2.7.3 in /usr/local/lib/python3.6/dist-packages (from pandas>=1.1.0->sktime) (2.8.1)\n",
            "Collecting threadpoolctl>=2.0.0\n",
            "  Downloading https://files.pythonhosted.org/packages/f7/12/ec3f2e203afa394a149911729357aa48affc59c20e2c1c8297a60f33f133/threadpoolctl-2.1.0-py3-none-any.whl\n",
            "Requirement already satisfied: joblib>=0.11 in /usr/local/lib/python3.6/dist-packages (from scikit-learn>=0.23.0->sktime) (1.0.0)\n",
            "Requirement already satisfied: scipy>=0.19.1 in /usr/local/lib/python3.6/dist-packages (from scikit-learn>=0.23.0->sktime) (1.4.1)\n",
            "Requirement already satisfied: patsy>=0.5 in /usr/local/lib/python3.6/dist-packages (from statsmodels>=0.12.1->sktime) (0.5.1)\n",
            "Requirement already satisfied: setuptools in /usr/local/lib/python3.6/dist-packages (from numba>=0.50->sktime) (53.0.0)\n",
            "Requirement already satisfied: llvmlite<0.35,>=0.34.0.dev0 in /usr/local/lib/python3.6/dist-packages (from numba>=0.50->sktime) (0.34.0)\n",
            "Requirement already satisfied: six>=1.5 in /usr/local/lib/python3.6/dist-packages (from python-dateutil>=2.7.3->pandas>=1.1.0->sktime) (1.15.0)\n",
            "Installing collected packages: threadpoolctl, scikit-learn, statsmodels, sktime\n",
            "  Found existing installation: scikit-learn 0.22.2.post1\n",
            "    Uninstalling scikit-learn-0.22.2.post1:\n",
            "      Successfully uninstalled scikit-learn-0.22.2.post1\n",
            "  Found existing installation: statsmodels 0.10.2\n",
            "    Uninstalling statsmodels-0.10.2:\n",
            "      Successfully uninstalled statsmodels-0.10.2\n",
            "Successfully installed scikit-learn-0.24.1 sktime-0.5.3 statsmodels-0.12.2 threadpoolctl-2.1.0\n"
          ],
          "name": "stdout"
        }
      ]
    },
    {
      "cell_type": "code",
      "metadata": {
        "id": "b1CncKbtwE7D"
      },
      "source": [
        "import pandas as pd\n",
        "import numpy as np\n",
        "from sktime.utils.plotting import plot_series\n",
        "from sktime.forecasting.model_selection import temporal_train_test_split\n",
        "from statsmodels.tsa.exponential_smoothing.ets import ETSModel\n",
        "from sklearn.metrics import  mean_absolute_error, mean_squared_error"
      ],
      "execution_count": 4,
      "outputs": []
    },
    {
      "cell_type": "markdown",
      "metadata": {
        "id": "x_3BTZSIwE7D"
      },
      "source": [
        "### 1.1 Read data (1 pt.)\n",
        "[back to contents](#Contents)"
      ]
    },
    {
      "cell_type": "markdown",
      "metadata": {
        "id": "H605RbQ9wE7E"
      },
      "source": [
        "Read the downloaded data from your local computer and name it ``` df ```\n",
        "\n",
        "Alternatively, you can skip 1.0 and access data directly putting ```'https://raw.github.com/bdemeshev/ts603/master/2021-spring/BI_TSA_HA_1_data.csv'``` inside ```read_csv```\n",
        "\n",
        "use ``` pd.read_csv('... .csv') ```"
      ]
    },
    {
      "cell_type": "code",
      "metadata": {
        "id": "8wJ_ZAZ6wE7E"
      },
      "source": [
        "#code here (1 pt.)\n",
        "df=pd.read_csv('https://raw.github.com/bdemeshev/ts603/master/2021-spring/BI_TSA_HA_1_data.csv')"
      ],
      "execution_count": 5,
      "outputs": []
    },
    {
      "cell_type": "markdown",
      "metadata": {
        "id": "k1vNp4-JwE7E"
      },
      "source": [
        "### 1.2 Check NAs (1 pt.)\n",
        "[back to contents](#Contents)"
      ]
    },
    {
      "cell_type": "markdown",
      "metadata": {
        "id": "abHJA42LwE7F"
      },
      "source": [
        "Check whether ``` df ``` contains missing values(NAs):\n",
        "\n",
        "apply ``` isna().value_counts() ``` to ``` df ```"
      ]
    },
    {
      "cell_type": "code",
      "metadata": {
        "colab": {
          "base_uri": "https://localhost:8080/"
        },
        "id": "zVY22PSswE7F",
        "outputId": "ad3ca6f0-c4dc-40a3-d6bb-114fc3a5af41"
      },
      "source": [
        "print(df.isna().value_counts())"
      ],
      "execution_count": 6,
      "outputs": [
        {
          "output_type": "stream",
          "text": [
            "sales  month  day    year \n",
            "False  False  False  False    147\n",
            "dtype: int64\n"
          ],
          "name": "stdout"
        }
      ]
    },
    {
      "cell_type": "markdown",
      "metadata": {
        "id": "wlkyyyzlwE7F"
      },
      "source": [
        "How many missing values are there in ``` df ```?"
      ]
    },
    {
      "cell_type": "code",
      "metadata": {
        "colab": {
          "base_uri": "https://localhost:8080/"
        },
        "id": "cxO9F9uywE7F",
        "outputId": "61e2d65f-e294-4026-df11-4822cb1dbadf"
      },
      "source": [
        "# answer (0.5 pt.)\n",
        "df.isna().sum().sum()\n",
        "# No missing values"
      ],
      "execution_count": 7,
      "outputs": [
        {
          "output_type": "execute_result",
          "data": {
            "text/plain": [
              "0"
            ]
          },
          "metadata": {
            "tags": []
          },
          "execution_count": 7
        }
      ]
    },
    {
      "cell_type": "markdown",
      "metadata": {
        "id": "ENRLl_obwE7G"
      },
      "source": [
        "### 1.3 Dates transformation (2 pt.)\n",
        "[back to contents](#Contents)"
      ]
    },
    {
      "cell_type": "markdown",
      "metadata": {
        "id": "n8BkGbCQwE7G"
      },
      "source": [
        "How are dates represented in the original dataset? "
      ]
    },
    {
      "cell_type": "code",
      "metadata": {
        "colab": {
          "base_uri": "https://localhost:8080/"
        },
        "id": "klNyQcV8wE7G",
        "outputId": "4060c346-250b-4ba3-b59b-d3665d791c9e"
      },
      "source": [
        "# answer (0.5 pt.)\n",
        "print(df.dtypes)"
      ],
      "execution_count": 8,
      "outputs": [
        {
          "output_type": "stream",
          "text": [
            "sales    float64\n",
            "month      int64\n",
            "day        int64\n",
            "year       int64\n",
            "dtype: object\n"
          ],
          "name": "stdout"
        }
      ]
    },
    {
      "cell_type": "markdown",
      "metadata": {
        "id": "SfrCn_yBwE7H"
      },
      "source": [
        "Transform dates to datetime format:\n",
        "\n",
        "``` df['date']=df['...']*10000+df['...']*100+df['...']*1 ```\n",
        "\n",
        "``` df['date']=pd.to_datetime(df['date'], format='%Y%m%d') ```\n",
        "\n",
        "change each ``` df['...'] ``` to one of ``` df['month'] ```, ``` df['year'] ```, ``` df['day'] ```according to ``` format='%Y%m%d'```"
      ]
    },
    {
      "cell_type": "code",
      "metadata": {
        "colab": {
          "base_uri": "https://localhost:8080/"
        },
        "id": "3gLS0GlTwE7H",
        "outputId": "16c9782d-f813-45c5-e9d2-4dd174e704dd"
      },
      "source": [
        "# code here (0.5 pt.)\n",
        "df['date']=df['year']*10000+df['month']*100+df['day']*1\n",
        "df['date']=pd.to_datetime(df['date'], format='%Y%m%d')\n",
        "print(df)"
      ],
      "execution_count": 9,
      "outputs": [
        {
          "output_type": "stream",
          "text": [
            "       sales  month  day  year       date\n",
            "0    134.710     10   31  2020 2020-10-31\n",
            "1    137.740      7   31  2020 2020-07-31\n",
            "2    134.620      4   30  2020 2020-04-30\n",
            "3    141.670      1   31  2020 2020-01-31\n",
            "4    127.990     10   31  2019 2019-10-31\n",
            "..       ...    ...  ...   ...        ...\n",
            "142    1.656      4   30  1985 1985-04-30\n",
            "143    2.074      1   31  1985 1985-01-31\n",
            "144    1.584     10   31  1984 1984-10-31\n",
            "145    1.508      7   31  1984 1984-07-31\n",
            "146    1.235      4   30  1984 1984-04-30\n",
            "\n",
            "[147 rows x 5 columns]\n"
          ],
          "name": "stdout"
        }
      ]
    },
    {
      "cell_type": "markdown",
      "metadata": {
        "id": "bIrPIdj8wE7H"
      },
      "source": [
        "Change index to dates:\n",
        "\n",
        "``` df.index=.... ```"
      ]
    },
    {
      "cell_type": "code",
      "metadata": {
        "id": "6kQJH_xhwE7H"
      },
      "source": [
        "# code here (0.25 pt.)\n",
        "df.index=df['date']"
      ],
      "execution_count": 10,
      "outputs": []
    },
    {
      "cell_type": "markdown",
      "metadata": {
        "id": "DDuXVW5xwE7I"
      },
      "source": [
        "What is the size of the dataset?\n",
        "\n",
        "use ```.shape```"
      ]
    },
    {
      "cell_type": "code",
      "metadata": {
        "colab": {
          "base_uri": "https://localhost:8080/"
        },
        "id": "TdE-_5RHwE7I",
        "outputId": "1bc99abc-09a8-407f-f08d-48493e89d4d1"
      },
      "source": [
        "# code here (0.25 pt.)\n",
        "print(df.shape)"
      ],
      "execution_count": 11,
      "outputs": [
        {
          "output_type": "stream",
          "text": [
            "(147, 5)\n"
          ],
          "name": "stdout"
        }
      ]
    },
    {
      "cell_type": "markdown",
      "metadata": {
        "id": "LADNb4bswE7I"
      },
      "source": [
        "Drop columns ['day', 'year','month','date']:\n",
        "\n",
        "```df=df.drop(..., axis=1)```"
      ]
    },
    {
      "cell_type": "code",
      "metadata": {
        "id": "1hb9UuMswE7I"
      },
      "source": [
        "# code here (0.25 pt.)\n",
        "df = df.drop(['day', 'year', 'month', 'date'], axis=1)"
      ],
      "execution_count": 12,
      "outputs": []
    },
    {
      "cell_type": "markdown",
      "metadata": {
        "id": "sKn3AxJbwE7J"
      },
      "source": [
        "What is the size of the dataset now?"
      ]
    },
    {
      "cell_type": "code",
      "metadata": {
        "colab": {
          "base_uri": "https://localhost:8080/"
        },
        "id": "wBzwQMO-0zJD",
        "outputId": "713bb032-dcbe-4c17-815f-2ebac3557751"
      },
      "source": [
        "# code here (0.25 pt.)\n",
        "print(df.shape)"
      ],
      "execution_count": 13,
      "outputs": [
        {
          "output_type": "stream",
          "text": [
            "(147, 1)\n"
          ],
          "name": "stdout"
        }
      ]
    },
    {
      "cell_type": "markdown",
      "metadata": {
        "id": "yhU1UqEbwE7J"
      },
      "source": [
        "### 1.4 Plot data (0.75 pt.)\n",
        "[back to contents](#Contents)"
      ]
    },
    {
      "cell_type": "markdown",
      "metadata": {
        "id": "Op3OpQAlwE7J"
      },
      "source": [
        "transform data frame column to series:\n",
        "\n",
        "```y=df['date']```"
      ]
    },
    {
      "cell_type": "code",
      "metadata": {
        "colab": {
          "base_uri": "https://localhost:8080/"
        },
        "id": "G9WgZq4gwE7K",
        "outputId": "941f7016-dae4-4c8a-9a8c-6b347f191b11"
      },
      "source": [
        "y=df['sales']\n",
        "print(df)"
      ],
      "execution_count": 14,
      "outputs": [
        {
          "output_type": "stream",
          "text": [
            "              sales\n",
            "date               \n",
            "2020-10-31  134.710\n",
            "2020-07-31  137.740\n",
            "2020-04-30  134.620\n",
            "2020-01-31  141.670\n",
            "2019-10-31  127.990\n",
            "...             ...\n",
            "1985-04-30    1.656\n",
            "1985-01-31    2.074\n",
            "1984-10-31    1.584\n",
            "1984-07-31    1.508\n",
            "1984-04-30    1.235\n",
            "\n",
            "[147 rows x 1 columns]\n"
          ],
          "name": "stdout"
        }
      ]
    },
    {
      "cell_type": "markdown",
      "metadata": {
        "id": "pDM903JrwE7K"
      },
      "source": [
        "```plot_series``` gets a series as an argument, whose dates sorted in ascending order.\n",
        "Transform your time series by changing descending order to ascending order:\n",
        "\n",
        "apply ```np.flip``` to ```y``` and name the result ```y```"
      ]
    },
    {
      "cell_type": "code",
      "metadata": {
        "colab": {
          "base_uri": "https://localhost:8080/"
        },
        "id": "Zm_I-YZXwE7K",
        "outputId": "8c7662bf-71e7-4cce-911c-80be6bed352f"
      },
      "source": [
        "y = np.flip(y)\n",
        "print(y)"
      ],
      "execution_count": 15,
      "outputs": [
        {
          "output_type": "stream",
          "text": [
            "date\n",
            "1984-04-30      1.235\n",
            "1984-07-31      1.508\n",
            "1984-10-31      1.584\n",
            "1985-01-31      2.074\n",
            "1985-04-30      1.656\n",
            "               ...   \n",
            "2019-10-31    127.990\n",
            "2020-01-31    141.670\n",
            "2020-04-30    134.620\n",
            "2020-07-31    137.740\n",
            "2020-10-31    134.710\n",
            "Name: sales, Length: 147, dtype: float64\n"
          ],
          "name": "stdout"
        }
      ]
    },
    {
      "cell_type": "code",
      "metadata": {
        "colab": {
          "base_uri": "https://localhost:8080/"
        },
        "id": "HuDeqHKX4YZ8",
        "outputId": "222dba3b-785c-479b-de57-174292b0e295"
      },
      "source": [
        "!pip install sktime\n"
      ],
      "execution_count": 39,
      "outputs": [
        {
          "output_type": "stream",
          "text": [
            "Collecting sktime\n",
            "\u001b[?25l  Downloading https://files.pythonhosted.org/packages/23/33/9c41660bf00420033a6e07809491263cc9a7d889ec4dfb2f7ea4a2f1bb63/sktime-0.5.3-cp36-cp36m-manylinux2014_x86_64.whl (5.7MB)\n",
            "\u001b[K     |████████████████████████████████| 5.7MB 5.4MB/s \n",
            "\u001b[?25hRequirement already satisfied: numpy>=1.19.0 in /usr/local/lib/python3.6/dist-packages (from sktime) (1.19.5)\n",
            "Requirement already satisfied: numba>=0.50 in /usr/local/lib/python3.6/dist-packages (from sktime) (0.51.2)\n",
            "Requirement already satisfied: wheel in /usr/local/lib/python3.6/dist-packages (from sktime) (0.36.2)\n",
            "Collecting scikit-learn>=0.23.0\n",
            "\u001b[?25l  Downloading https://files.pythonhosted.org/packages/e2/4c/6111b9a325f29527d7f262e2ee8c730d354b47a728d955e186dacad57a0d/scikit_learn-0.24.1-cp36-cp36m-manylinux2010_x86_64.whl (22.2MB)\n",
            "\u001b[K     |████████████████████████████████| 22.2MB 1.7MB/s \n",
            "\u001b[?25hCollecting statsmodels>=0.12.1\n",
            "\u001b[?25l  Downloading https://files.pythonhosted.org/packages/0d/7b/c17815648dc31396af865b9c6627cc3f95705954e30f61106795361c39ee/statsmodels-0.12.2-cp36-cp36m-manylinux1_x86_64.whl (9.5MB)\n",
            "\u001b[K     |████████████████████████████████| 9.5MB 51.7MB/s \n",
            "\u001b[?25hRequirement already satisfied: pandas>=1.1.0 in /usr/local/lib/python3.6/dist-packages (from sktime) (1.1.5)\n",
            "Requirement already satisfied: llvmlite<0.35,>=0.34.0.dev0 in /usr/local/lib/python3.6/dist-packages (from numba>=0.50->sktime) (0.34.0)\n",
            "Requirement already satisfied: setuptools in /usr/local/lib/python3.6/dist-packages (from numba>=0.50->sktime) (53.0.0)\n",
            "Collecting threadpoolctl>=2.0.0\n",
            "  Downloading https://files.pythonhosted.org/packages/f7/12/ec3f2e203afa394a149911729357aa48affc59c20e2c1c8297a60f33f133/threadpoolctl-2.1.0-py3-none-any.whl\n",
            "Requirement already satisfied: scipy>=0.19.1 in /usr/local/lib/python3.6/dist-packages (from scikit-learn>=0.23.0->sktime) (1.4.1)\n",
            "Requirement already satisfied: joblib>=0.11 in /usr/local/lib/python3.6/dist-packages (from scikit-learn>=0.23.0->sktime) (1.0.0)\n",
            "Requirement already satisfied: patsy>=0.5 in /usr/local/lib/python3.6/dist-packages (from statsmodels>=0.12.1->sktime) (0.5.1)\n",
            "Requirement already satisfied: python-dateutil>=2.7.3 in /usr/local/lib/python3.6/dist-packages (from pandas>=1.1.0->sktime) (2.8.1)\n",
            "Requirement already satisfied: pytz>=2017.2 in /usr/local/lib/python3.6/dist-packages (from pandas>=1.1.0->sktime) (2018.9)\n",
            "Requirement already satisfied: six in /usr/local/lib/python3.6/dist-packages (from patsy>=0.5->statsmodels>=0.12.1->sktime) (1.15.0)\n",
            "Installing collected packages: threadpoolctl, scikit-learn, statsmodels, sktime\n",
            "  Found existing installation: scikit-learn 0.22.2.post1\n",
            "    Uninstalling scikit-learn-0.22.2.post1:\n",
            "      Successfully uninstalled scikit-learn-0.22.2.post1\n",
            "  Found existing installation: statsmodels 0.10.2\n",
            "    Uninstalling statsmodels-0.10.2:\n",
            "      Successfully uninstalled statsmodels-0.10.2\n",
            "Successfully installed scikit-learn-0.24.1 sktime-0.5.3 statsmodels-0.12.2 threadpoolctl-2.1.0\n"
          ],
          "name": "stdout"
        }
      ]
    },
    {
      "cell_type": "code",
      "metadata": {
        "id": "rsGGQkWd4ftS"
      },
      "source": [
        "from sktime.utils.plotting import plot_series"
      ],
      "execution_count": 40,
      "outputs": []
    },
    {
      "cell_type": "markdown",
      "metadata": {
        "id": "wr0K6vFzwE7K"
      },
      "source": [
        "Plot the series using ```plot_series()```"
      ]
    },
    {
      "cell_type": "code",
      "metadata": {
        "colab": {
          "base_uri": "https://localhost:8080/",
          "height": 299
        },
        "id": "MH-EyyVi2Fom",
        "outputId": "72f39b47-3234-445f-a2d7-01e704b5e254"
      },
      "source": [
        "plot_series(y)"
      ],
      "execution_count": 16,
      "outputs": [
        {
          "output_type": "execute_result",
          "data": {
            "text/plain": [
              "(<Figure size 1152x288 with 1 Axes>,\n",
              " <matplotlib.axes._subplots.AxesSubplot at 0x7fdbe9a4aa20>)"
            ]
          },
          "metadata": {
            "tags": []
          },
          "execution_count": 16
        },
        {
          "output_type": "display_data",
          "data": {
            "image/png": "[encoded data removed]",
            "text/plain": [
              "<Figure size 1152x288 with 1 Axes>"
            ]
          },
          "metadata": {
            "tags": [],
            "needs_background": "light"
          }
        }
      ]
    },
    {
      "cell_type": "markdown",
      "metadata": {
        "id": "7u9nvsM5wE7L"
      },
      "source": [
        "### 1.5 Split data (0.75 pt.)\n",
        "[back to contents](#Contents)"
      ]
    },
    {
      "cell_type": "markdown",
      "metadata": {
        "id": "u30LpPB4wE7L"
      },
      "source": [
        "Split the data into train and test samples:\n",
        "\n",
        "``` temporal_train_test_split(...) ```\n",
        "\n",
        "choose ``` test_size=0.2 ```"
      ]
    },
    {
      "cell_type": "code",
      "metadata": {
        "colab": {
          "base_uri": "https://localhost:8080/",
          "height": 299
        },
        "id": "O7BjnH53wE7L",
        "outputId": "7a3d4606-35b2-4b23-e3f6-902f529c499f"
      },
      "source": [
        "from sktime.forecasting.model_selection import temporal_train_test_split\n",
        "y_train, y_test = temporal_train_test_split(y, test_size=0.2)\n",
        "plot_series(y_train, y_test, labels=['train', 'test'])"
      ],
      "execution_count": 17,
      "outputs": [
        {
          "output_type": "execute_result",
          "data": {
            "text/plain": [
              "(<Figure size 1152x288 with 1 Axes>,\n",
              " <matplotlib.axes._subplots.AxesSubplot at 0x7fdbe99b23c8>)"
            ]
          },
          "metadata": {
            "tags": []
          },
          "execution_count": 17
        },
        {
          "output_type": "display_data",
          "data": {
            "image/png": "[encoded data removed]",
            "text/plain": [
              "<Figure size 1152x288 with 1 Axes>"
            ]
          },
          "metadata": {
            "tags": [],
            "needs_background": "light"
          }
        }
      ]
    },
    {
      "cell_type": "markdown",
      "metadata": {
        "id": "KK5IdaBiwE7L"
      },
      "source": [
        "plot train and test samples using ``` plot_series ```"
      ]
    },
    {
      "cell_type": "code",
      "metadata": {
        "colab": {
          "base_uri": "https://localhost:8080/",
          "height": 299
        },
        "id": "ONWt9s_QwE7M",
        "outputId": "4ba46337-4582-4ce1-f4d2-8adc932bc820"
      },
      "source": [
        "plot_series(y_train, y_test, labels=['train', 'test'])"
      ],
      "execution_count": 18,
      "outputs": [
        {
          "output_type": "execute_result",
          "data": {
            "text/plain": [
              "(<Figure size 1152x288 with 1 Axes>,\n",
              " <matplotlib.axes._subplots.AxesSubplot at 0x7fdbe94dcf28>)"
            ]
          },
          "metadata": {
            "tags": []
          },
          "execution_count": 18
        },
        {
          "output_type": "display_data",
          "data": {
            "image/png": "[encoded data removed]",
            "text/plain": [
              "<Figure size 1152x288 with 1 Axes>"
            ]
          },
          "metadata": {
            "tags": [],
            "needs_background": "light"
          }
        }
      ]
    },
    {
      "cell_type": "markdown",
      "metadata": {
        "id": "IxeMS93LwE7M"
      },
      "source": [
        "## 2. ETS (7 pt.)"
      ]
    },
    {
      "cell_type": "markdown",
      "metadata": {
        "id": "8AKW6i9kwE7M"
      },
      "source": [
        "### 2.1 Estimate ETS (MAA) and (AAM) (1 pt.)\n",
        "[back to contents](#Contents)"
      ]
    },
    {
      "cell_type": "markdown",
      "metadata": {
        "id": "TVI5p8O5wE7M"
      },
      "source": [
        "Start with ETS (MAA). Estimate the model and name it ```model_MAA```:\n",
        "\n",
        "```ETSModel(..., error='...', trend='...', seasonal='...', seasonal_periods=...)```\n",
        "\n",
        "```fit_MAA=model_MAA.fit()```\n"
      ]
    },
    {
      "cell_type": "code",
      "metadata": {
        "colab": {
          "base_uri": "https://localhost:8080/"
        },
        "id": "wxPJM5ClwE7N",
        "outputId": "143428cb-252d-439f-c16c-bad1480ae51b"
      },
      "source": [
        "model_MAA = ETSModel(y_train, error='mul', trend='add', seasonal='add', seasonal_periods=4)\n",
        "fit_MAA=model_MAA.fit()"
      ],
      "execution_count": 19,
      "outputs": [
        {
          "output_type": "stream",
          "text": [
            "/usr/local/lib/python3.6/dist-packages/statsmodels/tsa/base/tsa_model.py:527: ValueWarning: No frequency information was provided, so inferred frequency Q-OCT will be used.\n",
            "  % freq, ValueWarning)\n"
          ],
          "name": "stderr"
        }
      ]
    },
    {
      "cell_type": "markdown",
      "metadata": {
        "id": "AcT-qmFMwE7N"
      },
      "source": [
        "Estimate ETS (AAM) with the same characteristics:\n",
        "    \n",
        "```ETSModel(..., error='...', trend='...', seasonal='...', seasonal_periods=...)```\n",
        "\n",
        "```fit_AAM=model_AAM.fit()```\n"
      ]
    },
    {
      "cell_type": "code",
      "metadata": {
        "colab": {
          "base_uri": "https://localhost:8080/"
        },
        "id": "6zth6f6kwE7N",
        "outputId": "a22129f7-b61c-49ab-8165-52d4b3802a31"
      },
      "source": [
        "model_AAM = ETSModel(y_train, error='add', trend='add', seasonal='mul', seasonal_periods=4)\n",
        "fit_AAM=model_AAM.fit()\n"
      ],
      "execution_count": 20,
      "outputs": [
        {
          "output_type": "stream",
          "text": [
            "/usr/local/lib/python3.6/dist-packages/statsmodels/tsa/base/tsa_model.py:527: ValueWarning: No frequency information was provided, so inferred frequency Q-OCT will be used.\n",
            "  % freq, ValueWarning)\n"
          ],
          "name": "stderr"
        }
      ]
    },
    {
      "cell_type": "markdown",
      "metadata": {
        "id": "bASgkLc1wE7N"
      },
      "source": [
        "### 2.2 Point forecasts (1 pt.)\n",
        "[back to contents](#Contents)"
      ]
    },
    {
      "cell_type": "markdown",
      "metadata": {
        "id": "Za8Bti8QwE7O"
      },
      "source": [
        "Obtain point forecasts for ETS(MAA) with forecasting horizon=30 quarters:\n",
        "\n",
        "```fit_MAA.forecast(steps=...)```"
      ]
    },
    {
      "cell_type": "code",
      "metadata": {
        "id": "7CNFf30EwE7O"
      },
      "source": [
        "fit_MAA_forecast = fit_MAA.forecast(steps=30)"
      ],
      "execution_count": 23,
      "outputs": []
    },
    {
      "cell_type": "markdown",
      "metadata": {
        "id": "0eK4CZaawE7O"
      },
      "source": [
        "Obtain point forecasts for ETS(AAM) with forecasting horizon=30 quarters:\n",
        "\n",
        "```fit_AAM.forecast(steps=...)```"
      ]
    },
    {
      "cell_type": "code",
      "metadata": {
        "id": "cFKOd-8pwE7P"
      },
      "source": [
        "fit_AAM_forecast = fit_AAM.forecast(steps=30)"
      ],
      "execution_count": 24,
      "outputs": []
    },
    {
      "cell_type": "markdown",
      "metadata": {
        "id": "yUh96VGIwE7P"
      },
      "source": [
        "Plot both forecasts (AAM) and (MAA), test and train data\n",
        "\n",
        "```plot_series()```"
      ]
    },
    {
      "cell_type": "code",
      "metadata": {
        "colab": {
          "base_uri": "https://localhost:8080/",
          "height": 299
        },
        "id": "1sJOSaqDwE7P",
        "outputId": "6b559fdb-e335-4efc-d104-6df48e392f25"
      },
      "source": [
        "plot_series(y_train, y_test, fit_MAA_forecast, fit_AAM_forecast, labels=['Train','Test','ETS MAA','ETS AAM'])"
      ],
      "execution_count": 25,
      "outputs": [
        {
          "output_type": "execute_result",
          "data": {
            "text/plain": [
              "(<Figure size 1152x288 with 1 Axes>,\n",
              " <matplotlib.axes._subplots.AxesSubplot at 0x7fdbe94a9400>)"
            ]
          },
          "metadata": {
            "tags": []
          },
          "execution_count": 25
        },
        {
          "output_type": "display_data",
          "data": {
            "image/png": "[encoded data removed]",
            "text/plain": [
              "<Figure size 1152x288 with 1 Axes>"
            ]
          },
          "metadata": {
            "tags": [],
            "needs_background": "light"
          }
        }
      ]
    },
    {
      "cell_type": "markdown",
      "metadata": {
        "id": "kzLu3KjbwE7P"
      },
      "source": [
        "### 2.3 Interval forecasts ETS(MAA) (1 pt.)\n",
        "[back to contents](#Contents)"
      ]
    },
    {
      "cell_type": "markdown",
      "metadata": {
        "id": "GXi7mUqCwE7Q"
      },
      "source": [
        "Get 95% confidence intervals:\n",
        "\n",
        "```pred_MAA=fit_MAA.get_prediction(start='2013-07-31', end='2020-10-31') ```\n",
        "\n",
        "``` pred_MAA=pred_MAA.summary_frame(alpha=0.05) ```\n",
        "\n",
        "Expract upper and lower bounds from ```pred_MAA``` and name them ```upper_int``` and ```lower_int```\n"
      ]
    },
    {
      "cell_type": "code",
      "metadata": {
        "id": "axlsu4CnwE7Q"
      },
      "source": [
        "pred_MAA=fit_MAA.get_prediction(start='2013-07-31', end='2020-10-31')\n",
        "pred_MAA=pred_MAA.summary_frame(alpha=0.05)\n",
        "upper_int = pred_MAA.pi_upper\n",
        "lower_int = pred_MAA.pi_lower"
      ],
      "execution_count": 29,
      "outputs": []
    },
    {
      "cell_type": "markdown",
      "metadata": {
        "id": "83N2qczrwE7Q"
      },
      "source": [
        "Plot interval predictions:\n",
        "\n",
        "```plot_series()```"
      ]
    },
    {
      "cell_type": "code",
      "metadata": {
        "scrolled": true,
        "colab": {
          "base_uri": "https://localhost:8080/",
          "height": 299
        },
        "id": "TcmZHSHvwE7Q",
        "outputId": "bc6b7ab7-117b-4ace-d1cc-89faded4a2ea"
      },
      "source": [
        "plot_series(y_test, upper_int, lower_int, labels = ['Test', 'Lower Interval','Upper Interval'])"
      ],
      "execution_count": 30,
      "outputs": [
        {
          "output_type": "execute_result",
          "data": {
            "text/plain": [
              "(<Figure size 1152x288 with 1 Axes>,\n",
              " <matplotlib.axes._subplots.AxesSubplot at 0x7fdbe9338518>)"
            ]
          },
          "metadata": {
            "tags": []
          },
          "execution_count": 30
        },
        {
          "output_type": "display_data",
          "data": {
            "image/png": "[encoded data removed]",
            "text/plain": [
              "<Figure size 1152x288 with 1 Axes>"
            ]
          },
          "metadata": {
            "tags": [],
            "needs_background": "light"
          }
        }
      ]
    },
    {
      "cell_type": "markdown",
      "metadata": {
        "id": "0h6eyR9NwE7R"
      },
      "source": [
        "### 2.4 Interval forecasts ETS(AAM) (1 pt.)\n",
        "[back to contents](#Contents)"
      ]
    },
    {
      "cell_type": "markdown",
      "metadata": {
        "id": "OTLT40zowE7R"
      },
      "source": [
        "Get 95% confidence intervals:\n",
        "\n",
        "``` pred_AAM=fit_AAM.get_prediction(start='2013-07-31', end='2020-10-31') ```\n",
        "\n",
        "``` pred_AAM=pred_AAM.summary_frame(alpha=0.05) ```\n",
        "\n",
        "Expract upper and lower bounds from ```pred_MAA``` and name them ```upper_int``` and ```lower_int```"
      ]
    },
    {
      "cell_type": "code",
      "metadata": {
        "id": "ThUOHwCowE7R"
      },
      "source": [
        "pred_AAM=fit_AAM.get_prediction(start='2013-07-31', end='2020-10-31')\n",
        "pred_AAM=pred_AAM.summary_frame(alpha=0.05)\n",
        "upper_int = pred_AAM.pi_upper\n",
        "lower_int = pred_AAM.pi_lower"
      ],
      "execution_count": 31,
      "outputs": []
    },
    {
      "cell_type": "markdown",
      "metadata": {
        "id": "bLJA9GDIwE7R"
      },
      "source": [
        "Plot interval predictions:\n",
        "\n",
        "```plot_series()```"
      ]
    },
    {
      "cell_type": "code",
      "metadata": {
        "scrolled": true,
        "colab": {
          "base_uri": "https://localhost:8080/",
          "height": 299
        },
        "id": "_sa5-dX2wE7S",
        "outputId": "acd58d06-a335-404e-b50c-cabbb2df50a9"
      },
      "source": [
        "plot_series(y_test, upper_int, lower_int, labels = ['Test', 'Lower Interval','Upper Interval'])\n"
      ],
      "execution_count": 32,
      "outputs": [
        {
          "output_type": "execute_result",
          "data": {
            "text/plain": [
              "(<Figure size 1152x288 with 1 Axes>,\n",
              " <matplotlib.axes._subplots.AxesSubplot at 0x7fdbe92e1b00>)"
            ]
          },
          "metadata": {
            "tags": []
          },
          "execution_count": 32
        },
        {
          "output_type": "display_data",
          "data": {
            "image/png": "[encoded data removed]",
            "text/plain": [
              "<Figure size 1152x288 with 1 Axes>"
            ]
          },
          "metadata": {
            "tags": [],
            "needs_background": "light"
          }
        }
      ]
    },
    {
      "cell_type": "markdown",
      "metadata": {
        "id": "Jd5tuXxdwE7S"
      },
      "source": [
        "### 2.5 Forecast quality metrics (2 pt.)\n",
        "[back to contents](#Contents)"
      ]
    },
    {
      "cell_type": "markdown",
      "metadata": {
        "id": "beWviwOgwE7S"
      },
      "source": [
        "Calculate the following metrics for both ETS(MAA) and ETS(AAM) predictions:"
      ]
    },
    {
      "cell_type": "markdown",
      "metadata": {
        "id": "u9Mkt6onwE7S"
      },
      "source": [
        "$MAE = \\frac{\\sum\\limits_{i=1}^n |y_i-\\hat{y}_i|}{n}$\n",
        "\n",
        "```python\n",
        "sklearn.metrics.mean_absolute_error\n",
        "```"
      ]
    },
    {
      "cell_type": "code",
      "metadata": {
        "colab": {
          "base_uri": "https://localhost:8080/"
        },
        "id": "FatbTib4wE7T",
        "outputId": "4f1bf1eb-5e41-4484-d6c1-dd972ba34e2e"
      },
      "source": [
        "mean_absolute_error(y_test, fit_MAA.forecast(steps=30))"
      ],
      "execution_count": 33,
      "outputs": [
        {
          "output_type": "execute_result",
          "data": {
            "text/plain": [
              "6.394546605755498"
            ]
          },
          "metadata": {
            "tags": []
          },
          "execution_count": 33
        }
      ]
    },
    {
      "cell_type": "code",
      "metadata": {
        "colab": {
          "base_uri": "https://localhost:8080/"
        },
        "id": "E53ZFvY-wE7U",
        "outputId": "cc458367-c891-4c70-e4ab-56cb1955abca"
      },
      "source": [
        "mean_absolute_error(y_test, fit_AAM.forecast(steps=30))"
      ],
      "execution_count": 34,
      "outputs": [
        {
          "output_type": "execute_result",
          "data": {
            "text/plain": [
              "12.709161383337841"
            ]
          },
          "metadata": {
            "tags": []
          },
          "execution_count": 34
        }
      ]
    },
    {
      "cell_type": "markdown",
      "metadata": {
        "id": "A6SzUiY_wE7U"
      },
      "source": [
        "$MSE = \\frac{\\sum\\limits_{i=1}^n (y_i-\\hat{y}_i)^2}{n}$\n",
        "\n",
        "```python\n",
        "sklearn.metrics.mean_squared_error\n",
        "```"
      ]
    },
    {
      "cell_type": "code",
      "metadata": {
        "colab": {
          "base_uri": "https://localhost:8080/"
        },
        "id": "kOAae5lQwE7U",
        "outputId": "4309d5f0-f891-4989-8dbb-5fbc480432a8"
      },
      "source": [
        "# code here (0.5 pt.) MAA\n",
        "mean_squared_error(y_test, fit_MAA.forecast(steps=30))"
      ],
      "execution_count": 35,
      "outputs": [
        {
          "output_type": "execute_result",
          "data": {
            "text/plain": [
              "50.57147037477893"
            ]
          },
          "metadata": {
            "tags": []
          },
          "execution_count": 35
        }
      ]
    },
    {
      "cell_type": "code",
      "metadata": {
        "colab": {
          "base_uri": "https://localhost:8080/"
        },
        "id": "VhO66JgywE7U",
        "outputId": "047c3b91-bf90-4623-8924-77dc76879531"
      },
      "source": [
        "# code here (0.5 pt.) AAM\n",
        "mean_squared_error(y_test, fit_AAM.forecast(steps=30))"
      ],
      "execution_count": 36,
      "outputs": [
        {
          "output_type": "execute_result",
          "data": {
            "text/plain": [
              "195.9700976122845"
            ]
          },
          "metadata": {
            "tags": []
          },
          "execution_count": 36
        }
      ]
    },
    {
      "cell_type": "markdown",
      "metadata": {
        "id": "kZIMOCmJwE7U"
      },
      "source": [
        "$MAPE = \\frac{100}{n}\\frac{\\sum\\limits_{i=1}^n |y_i-\\hat{y}_i|}{y_i}$ \n",
        "\n",
        "```python\n",
        "def mean_absolute_percentage_error(y_true, y_pred): \n",
        "    return np.mean(np.abs((y_true - y_pred) / y_true)) * 100\n",
        "```"
      ]
    },
    {
      "cell_type": "markdown",
      "metadata": {
        "id": "mhlSK75uwE7V"
      },
      "source": [
        "Create a new function to calculate MAPE"
      ]
    },
    {
      "cell_type": "code",
      "metadata": {
        "id": "_3JoR2awwE7V"
      },
      "source": [
        "# code here (0.5 pt.)\n",
        "def mean_absolute_percentage_error(y_true, y_pred): \n",
        "    return np.mean(np.abs((y_true - y_pred) / y_true)) * 100"
      ],
      "execution_count": 37,
      "outputs": []
    },
    {
      "cell_type": "markdown",
      "metadata": {
        "id": "pZnfEBM7wE7V"
      },
      "source": [
        "Calculate MAPE:"
      ]
    },
    {
      "cell_type": "code",
      "metadata": {
        "colab": {
          "base_uri": "https://localhost:8080/"
        },
        "id": "up3XlQdCwE7V",
        "outputId": "376ac264-a728-49bb-83b1-89e0cd141529"
      },
      "source": [
        "# code here (0.25 pt.) MAA\n",
        "mean_absolute_percentage_error(y_test, fit_MAA.forecast(steps=30))"
      ],
      "execution_count": 38,
      "outputs": [
        {
          "output_type": "execute_result",
          "data": {
            "text/plain": [
              "5.091701024681435"
            ]
          },
          "metadata": {
            "tags": []
          },
          "execution_count": 38
        }
      ]
    },
    {
      "cell_type": "code",
      "metadata": {
        "colab": {
          "base_uri": "https://localhost:8080/"
        },
        "id": "lDTbEuJJwE7V",
        "outputId": "25d62b39-716b-4f32-9c0c-ed6831e5296b"
      },
      "source": [
        "# code here (0.25 pt.) AAM\n",
        "mean_absolute_percentage_error(y_test, fit_AAM.forecast(steps=30))"
      ],
      "execution_count": 39,
      "outputs": [
        {
          "output_type": "execute_result",
          "data": {
            "text/plain": [
              "9.993524328604307"
            ]
          },
          "metadata": {
            "tags": []
          },
          "execution_count": 39
        }
      ]
    },
    {
      "cell_type": "markdown",
      "metadata": {
        "id": "0Hggyr-kwE7W"
      },
      "source": [
        "### 2.6 What is the best model according to the metrics above? (1 pt.)"
      ]
    },
    {
      "cell_type": "code",
      "metadata": {
        "id": "VVlFRo1owE7W"
      },
      "source": [
        "# code here (1 pt.)\n",
        "#According to MAE MSE and Mape metrics MAA model is  better than AAM"
      ],
      "execution_count": null,
      "outputs": []
    }
  ]
}